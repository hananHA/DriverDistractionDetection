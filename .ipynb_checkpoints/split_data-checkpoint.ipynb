{
 "cells": [
  {
   "cell_type": "code",
   "execution_count": null,
   "metadata": {},
   "outputs": [],
   "source": [
    "# using 60, 20, 20 split\n",
    "\n",
    "import os\n",
    "from sklearn.model_selection import train_test_split\n",
    "\n",
    "NUM_CLASSES = 10\n",
    "data_path = 'C:/Users/alkaf/distracted-driver-detection/dataset/split_data/imgs/train'\n",
    "\n",
    "for i in range(NUM_CLASSES):\n",
    "    \n",
    "    curr_dir_path = data_path + 'c' + str(i) + '/'\n",
    "    \n",
    "    xtrain = labels = os.listdir(curr_dir_path)\n",
    "    \n",
    "    x, x_test, y, y_test = train_test_split(xtrain,labels,test_size=0.2,train_size=0.8)\n",
    "    x_train, x_val, y_train, y_val = train_test_split(x,y,test_size = 0.25,train_size =0.75)\n",
    "    \n",
    "    for x in x_train:\n",
    "        \n",
    "        if (not os.path.exists('train/' + 'c' + str(i) + '/')):\n",
    "            os.makedirs('train/' + 'c' + str(i) + '/')\n",
    "            \n",
    "        os.rename(data_path + 'c' + str(i) + '/' + x, 'train/' + 'c' + str(i) + '/' + x)\n",
    "        \n",
    "    for x in x_test:\n",
    "        \n",
    "        if (not os.path.exists('test/' + 'c' + str(i) + '/')):\n",
    "            os.makedirs('test/' + 'c' + str(i) + '/')\n",
    "            \n",
    "        os.rename(data_path + 'c' + str(i) + '/' + x, 'test/' + 'c' + str(i) + '/' + x)\n",
    "    \n",
    "    for x in x_val:\n",
    "        \n",
    "        if (not os.path.exists('validation/' + 'c' + str(i) + '/')):\n",
    "            os.makedirs('validation/' + 'c' + str(i) + '/')\n",
    "            \n",
    "        os.rename(data_path + 'c' + str(i) + '/' + x, 'validation/' + 'c' + str(i) + '/' + x)"
   ]
  }
 ],
 "metadata": {
  "kernelspec": {
   "display_name": "Python 3",
   "language": "python",
   "name": "python3"
  },
  "language_info": {
   "codemirror_mode": {
    "name": "ipython",
    "version": 3
   },
   "file_extension": ".py",
   "mimetype": "text/x-python",
   "name": "python",
   "nbconvert_exporter": "python",
   "pygments_lexer": "ipython3",
   "version": "3.7.3"
  }
 },
 "nbformat": 4,
 "nbformat_minor": 2
}
